{
 "cells": [
  {
   "cell_type": "markdown",
   "metadata": {
    "toc": true
   },
   "source": [
    "<h1>Table of Contents<span class=\"tocSkip\"></span></h1>\n",
    "<div class=\"toc\"><ul class=\"toc-item\"><li><span><a href=\"#Scraping-basic-content\" data-toc-modified-id=\"Scraping-basic-content-1\"><span class=\"toc-item-num\">1&nbsp;&nbsp;</span>Scraping basic content</a></span><ul class=\"toc-item\"><li><span><a href=\"#Create-dictionaries-with-page-URLs\" data-toc-modified-id=\"Create-dictionaries-with-page-URLs-1.1\"><span class=\"toc-item-num\">1.1&nbsp;&nbsp;</span>Create dictionaries with page URLs</a></span></li><li><span><a href=\"#Scrape-content-for-each-line\" data-toc-modified-id=\"Scrape-content-for-each-line-1.2\"><span class=\"toc-item-num\">1.2&nbsp;&nbsp;</span>Scrape content for each line</a></span><ul class=\"toc-item\"><li><span><a href=\"#Starwars\" data-toc-modified-id=\"Starwars-1.2.1\"><span class=\"toc-item-num\">1.2.1&nbsp;&nbsp;</span>Starwars</a></span></li><li><span><a href=\"#Duplo\" data-toc-modified-id=\"Duplo-1.2.2\"><span class=\"toc-item-num\">1.2.2&nbsp;&nbsp;</span>Duplo</a></span></li><li><span><a href=\"#Technic\" data-toc-modified-id=\"Technic-1.2.3\"><span class=\"toc-item-num\">1.2.3&nbsp;&nbsp;</span>Technic</a></span></li></ul></li></ul></li><li><span><a href=\"#Compile-data-frame\" data-toc-modified-id=\"Compile-data-frame-2\"><span class=\"toc-item-num\">2&nbsp;&nbsp;</span>Compile data frame</a></span><ul class=\"toc-item\"><li><span><a href=\"#Next-bid-and-purchase-price\" data-toc-modified-id=\"Next-bid-and-purchase-price-2.1\"><span class=\"toc-item-num\">2.1&nbsp;&nbsp;</span>Next bid and purchase price</a></span></li><li><span><a href=\"#End-date-and-time-remaining\" data-toc-modified-id=\"End-date-and-time-remaining-2.2\"><span class=\"toc-item-num\">2.2&nbsp;&nbsp;</span>End date and time remaining</a></span></li><li><span><a href=\"#Sale-type\" data-toc-modified-id=\"Sale-type-2.3\"><span class=\"toc-item-num\">2.3&nbsp;&nbsp;</span>Sale type</a></span></li></ul></li></ul></div>"
   ]
  },
  {
   "cell_type": "markdown",
   "metadata": {},
   "source": [
    "# Web-scraping Ricardo ads"
   ]
  },
  {
   "cell_type": "code",
   "execution_count": 5,
   "metadata": {},
   "outputs": [],
   "source": [
    "import requests\n",
    "from time import sleep\n",
    "from bs4 import BeautifulSoup\n",
    "import pandas as pd\n",
    "import urllib.request\n",
    "from datetime import datetime\n",
    "import csv"
   ]
  },
  {
   "cell_type": "code",
   "execution_count": 6,
   "metadata": {},
   "outputs": [],
   "source": [
    "# Helper function for downloading images\n",
    "def dl_jpg(url, file_path, file_name):\n",
    "    full_path = file_path + file_name + \".jpg\"\n",
    "    urllib.request.urlretrieve(url, full_path)"
   ]
  },
  {
   "cell_type": "markdown",
   "metadata": {},
   "source": [
    "## Scraping basic content"
   ]
  },
  {
   "cell_type": "markdown",
   "metadata": {},
   "source": [
    "### Create dictionaries with page URLs"
   ]
  },
  {
   "cell_type": "code",
   "execution_count": 7,
   "metadata": {},
   "outputs": [],
   "source": [
    "sw_pages = dict()\n",
    "dup_pages = dict()\n",
    "tech_pages = dict()\n",
    "\n",
    "# Change the number of pages depending on how many ads you want to scrape.\n",
    "for i in range(0, 5):\n",
    "    if i == 0:\n",
    "        sw_page = \"https://www.ricardo.ch/de/c/lego-star-wars-70601/?item_condition=used\"\n",
    "        sw_pages.update({i: sw_page})\n",
    "        duplo_page = \"https://www.ricardo.ch/de/c/duplo-41818/?item_condition=used\"\n",
    "        dup_pages.update({i: duplo_page})\n",
    "        tech_page = \"https://www.ricardo.ch/de/c/lego-technik-41822/?item_condition=used\"\n",
    "        tech_pages.update({i: tech_page})\n",
    "        \n",
    "    else:\n",
    "        sw_page = f\"https://www.ricardo.ch/de/c/lego-star-wars-70601/?item_condition=used&next_offset={i*59}&page={i+1}\"\n",
    "        sw_pages.update({i: sw_page})\n",
    "        duplo_page = f\"https://www.ricardo.ch/de/c/duplo-41818/?item_condition=used&next_offset={(i*59)+1}&page={i+1}\"\n",
    "        dup_pages.update({i: duplo_page})\n",
    "        tech_page = f\"https://www.ricardo.ch/de/c/lego-technik-41822/?item_condition=used&next_offset={(i*59)+1}&page={i+1}\"\n",
    "        tech_pages.update({i: tech_page})"
   ]
  },
  {
   "cell_type": "code",
   "execution_count": 8,
   "metadata": {},
   "outputs": [
    {
     "data": {
      "text/plain": [
       "{0: 'https://www.ricardo.ch/de/c/duplo-41818/?item_condition=used',\n",
       " 1: 'https://www.ricardo.ch/de/c/duplo-41818/?item_condition=used&next_offset=60&page=2',\n",
       " 2: 'https://www.ricardo.ch/de/c/duplo-41818/?item_condition=used&next_offset=119&page=3',\n",
       " 3: 'https://www.ricardo.ch/de/c/duplo-41818/?item_condition=used&next_offset=178&page=4',\n",
       " 4: 'https://www.ricardo.ch/de/c/duplo-41818/?item_condition=used&next_offset=237&page=5'}"
      ]
     },
     "execution_count": 8,
     "metadata": {},
     "output_type": "execute_result"
    }
   ],
   "source": [
    "dup_pages"
   ]
  },
  {
   "cell_type": "markdown",
   "metadata": {},
   "source": [
    "### Scrape content for each line"
   ]
  },
  {
   "cell_type": "markdown",
   "metadata": {},
   "source": [
    "#### Starwars"
   ]
  },
  {
   "cell_type": "code",
   "execution_count": 9,
   "metadata": {},
   "outputs": [],
   "source": [
    "# Scrape pages\n",
    "starwars_pages = list()\n",
    "\n",
    "for i in range(len(sw_pages)):\n",
    "    page_html = requests.get(sw_pages[i], timeout = 3)\n",
    "    page_content = BeautifulSoup(page_html.content, \"html.parser\")\n",
    "    starwars_pages.append(page_content)\n",
    "    sleep(3)"
   ]
  },
  {
   "cell_type": "code",
   "execution_count": 10,
   "metadata": {},
   "outputs": [],
   "source": [
    "# Extract box with ad url\n",
    "starwars_a = list()\n",
    "\n",
    "for i in range(len(starwars_pages)):\n",
    "    a = starwars_pages[i].findAll(\"a\", \n",
    "        {\"class\": \"MuiGrid-root link--2etfD MuiGrid-item MuiGrid-grid-xs-6 MuiGrid-grid-sm-4 MuiGrid-grid-md-3\"})\n",
    "    starwars_a.append(a)"
   ]
  },
  {
   "cell_type": "code",
   "execution_count": 11,
   "metadata": {},
   "outputs": [],
   "source": [
    "# Save the urls\n",
    "starwars_href = list()\n",
    "\n",
    "for i in range(len(starwars_a)):\n",
    "    for j in range(len(starwars_a[0])):\n",
    "        sw_href = starwars_a[i][j].get(\"href\")\n",
    "        starwars_href.append(f\"https://www.ricardo.ch{sw_href}\")"
   ]
  },
  {
   "cell_type": "code",
   "execution_count": 12,
   "metadata": {},
   "outputs": [],
   "source": [
    "# Scrape individual ads\n",
    "starwars_ads = list()\n",
    "starwars_time = list()\n",
    "\n",
    "for i in range(0, 300):\n",
    "    page_html = requests.get(starwars_href[i], timeout = 3)\n",
    "    page_content = BeautifulSoup(page_html.content, \"html.parser\")\n",
    "    starwars_ads.append(page_content)\n",
    "    starwars_time.append(datetime.now().strftime(\"%d/%m/%Y %H:%M:%S\"))   # Add the time of scraping.\n",
    "    sleep(3)"
   ]
  },
  {
   "cell_type": "code",
   "execution_count": 13,
   "metadata": {},
   "outputs": [],
   "source": [
    "# Save the contents and timestamp\n",
    "for i, j in zip(range(len(starwars_ads)), starwars_ads):\n",
    "    filename = f\"starwars_ads_{i}.html\"\n",
    "    path = \"html/\"\n",
    "    with open(path + filename, \"w\") as file:\n",
    "        file.write(str(j))\n",
    "        \n",
    "starwars_time = pd.Series(starwars_time)\n",
    "starwars_time.to_csv(\"timestamp_sw.csv\")"
   ]
  },
  {
   "cell_type": "code",
   "execution_count": 14,
   "metadata": {},
   "outputs": [],
   "source": [
    "# Extract the image box\n",
    "starwars_jpegs = list()\n",
    "\n",
    "for i in range(len(starwars_ads)):\n",
    "    if starwars_ads[i].findAll(\"img\", {\"class\": \"jss156\"}):\n",
    "        image = starwars_ads[i].findAll(\"img\", {\"class\": \"jss156\"})\n",
    "        starwars_jpegs.append(image)\n",
    "    elif starwars_ads[i].findAll(\"img\", {\"class\": \"jss164\"}):\n",
    "        image = starwars_ads[i].findAll(\"img\", {\"class\": \"jss164\"})\n",
    "        starwars_jpegs.append(image)"
   ]
  },
  {
   "cell_type": "code",
   "execution_count": 15,
   "metadata": {},
   "outputs": [],
   "source": [
    "# Flatten the list of lists\n",
    "flat_starwars_jpegs = []\n",
    "\n",
    "for sublist in starwars_jpegs:\n",
    "    if not sublist:\n",
    "        flat_starwars_jpegs.append(\"NaN\")\n",
    "    else:\n",
    "        for item in sublist:\n",
    "            flat_starwars_jpegs.append(item)"
   ]
  },
  {
   "cell_type": "code",
   "execution_count": 16,
   "metadata": {},
   "outputs": [],
   "source": [
    "# Save URLs and ad titles\n",
    "starwars_jpegs_links = list()\n",
    "list_starwars_titles = list()\n",
    "list_starwars_line = list()\n",
    "\n",
    "for i in range(len(flat_starwars_jpegs)):\n",
    "    if flat_starwars_jpegs[i] == \"NaN\":\n",
    "        starwars_jpegs_links.append(\"NaN\")\n",
    "    else:\n",
    "        source = flat_starwars_jpegs[i].get(\"src\")\n",
    "        starwars_jpegs_links.append(source)\n",
    "\n",
    "    if flat_starwars_jpegs[i] == \"NaN\":\n",
    "        list_starwars_titles.append(\"NaN\")\n",
    "    else:\n",
    "        title = flat_starwars_jpegs[i].get(\"alt\")\n",
    "        list_starwars_titles.append(title)\n",
    "\n",
    "    line = \"starwars\"\n",
    "    list_starwars_line.append(line)\n",
    "\n",
    "lego_sw_df = pd.DataFrame({\"line\": list_starwars_line, \"title\": list_starwars_titles, \"image_url\": \n",
    "                           starwars_jpegs_links, \"scraped_at\": starwars_time})"
   ]
  },
  {
   "cell_type": "code",
   "execution_count": 18,
   "metadata": {},
   "outputs": [],
   "source": [
    "# Save images to the drive\n",
    "for i in range(len(lego_sw_df)):\n",
    "    if lego_sw_df[\"image_url\"][i] == \"missing\":\n",
    "        pass\n",
    "    else:\n",
    "        url = lego_sw_df[\"image_url\"][i]\n",
    "        file_name = f\"{datetime.now().strftime('%Y%m%d')}_legoset_{i}\"\n",
    "        dl_jpg(url, \"images/\", file_name)"
   ]
  },
  {
   "cell_type": "markdown",
   "metadata": {},
   "source": [
    "#### Duplo"
   ]
  },
  {
   "cell_type": "code",
   "execution_count": 19,
   "metadata": {},
   "outputs": [],
   "source": [
    "# Scrape pages\n",
    "duplo_pages = list()\n",
    "\n",
    "for i in range(len(dup_pages)):\n",
    "    page_html = requests.get(dup_pages[i], timeout = 3)\n",
    "    page_content = BeautifulSoup(page_html.content, \"html.parser\")\n",
    "    duplo_pages.append(page_content)\n",
    "    sleep(3)"
   ]
  },
  {
   "cell_type": "code",
   "execution_count": 20,
   "metadata": {},
   "outputs": [],
   "source": [
    "# Extract box with ad url\n",
    "duplo_a = list()\n",
    "\n",
    "for i in range(len(duplo_pages)):\n",
    "    a = duplo_pages[i].findAll(\"a\", \n",
    "        {\"class\": \"MuiGrid-root link--2etfD MuiGrid-item MuiGrid-grid-xs-6 MuiGrid-grid-sm-4 MuiGrid-grid-md-3\"})\n",
    "    duplo_a.append(a)"
   ]
  },
  {
   "cell_type": "code",
   "execution_count": 21,
   "metadata": {},
   "outputs": [],
   "source": [
    "# Save the urls\n",
    "duplo_href = list()\n",
    "\n",
    "for i in range(len(duplo_a)):\n",
    "    for j in range(len(duplo_a[0])):\n",
    "        dp_href = duplo_a[i][j].get(\"href\")\n",
    "        duplo_href.append(f\"https://www.ricardo.ch{dp_href}\")"
   ]
  },
  {
   "cell_type": "code",
   "execution_count": 22,
   "metadata": {},
   "outputs": [],
   "source": [
    "# Scrape individual ads\n",
    "duplo_ads = list()\n",
    "duplo_time = list()\n",
    "\n",
    "for i in range(0, 300):\n",
    "    page_html = requests.get(duplo_href[i], timeout = 3)\n",
    "    page_content = BeautifulSoup(page_html.content, \"html.parser\")\n",
    "    duplo_ads.append(page_content)\n",
    "    duplo_time.append(datetime.now().strftime(\"%d/%m/%Y %H:%M:%S\"))\n",
    "    sleep(3)"
   ]
  },
  {
   "cell_type": "code",
   "execution_count": 23,
   "metadata": {},
   "outputs": [],
   "source": [
    "# Save the contents and timestamp\n",
    "for i, j in zip(range(len(duplo_ads)), duplo_ads):\n",
    "    filename = f\"duplo_ads_{i}.html\"\n",
    "    path = \"html/\"\n",
    "    with open(path + filename, \"w\") as file:\n",
    "        file.write(str(j))\n",
    "        \n",
    "duplo_time = pd.Series(duplo_time)\n",
    "duplo_time.to_csv(\"timestamp_duplo.csv\")"
   ]
  },
  {
   "cell_type": "code",
   "execution_count": 24,
   "metadata": {},
   "outputs": [],
   "source": [
    "# Extract the image box\n",
    "duplo_jpegs = list()\n",
    "\n",
    "for i in range(len(duplo_ads)):\n",
    "    if duplo_ads[i].findAll(\"img\", {\"class\": \"jss156\"}):\n",
    "        image = duplo_ads[i].findAll(\"img\", {\"class\": \"jss156\"})\n",
    "        duplo_jpegs.append(image)\n",
    "    elif duplo_ads[i].findAll(\"img\", {\"class\": \"jss164\"}):\n",
    "        image = duplo_ads[i].findAll(\"img\", {\"class\": \"jss164\"})\n",
    "        duplo_jpegs.append(image)\n",
    "    else:\n",
    "        duplo_jpegs.append(\"\")"
   ]
  },
  {
   "cell_type": "code",
   "execution_count": 25,
   "metadata": {},
   "outputs": [],
   "source": [
    "# Flatten the list of lists\n",
    "flat_duplo_jpegs = []\n",
    "\n",
    "for sublist in duplo_jpegs:\n",
    "    if not sublist:\n",
    "        flat_duplo_jpegs.append(\"NaN\")\n",
    "    else:\n",
    "        for item in sublist:\n",
    "            flat_duplo_jpegs.append(item)"
   ]
  },
  {
   "cell_type": "code",
   "execution_count": 26,
   "metadata": {},
   "outputs": [],
   "source": [
    "# Save URLs and ad titles\n",
    "duplo_jpegs_links = list()\n",
    "list_duplo_titles = list()\n",
    "list_duplo_line = list()\n",
    "\n",
    "for i in range(len(flat_duplo_jpegs)):\n",
    "    if flat_duplo_jpegs[i] == \"NaN\":\n",
    "        duplo_jpegs_links.append(\"NaN\")\n",
    "    else:\n",
    "        source = flat_duplo_jpegs[i].get(\"src\")\n",
    "        duplo_jpegs_links.append(source)\n",
    "    \n",
    "    if flat_duplo_jpegs[i] == \"NaN\":\n",
    "        list_duplo_titles.append(\"NaN\")\n",
    "    else:\n",
    "        title = flat_duplo_jpegs[i].get(\"alt\")\n",
    "        list_duplo_titles.append(title)\n",
    "    \n",
    "    line = \"duplo\"\n",
    "    list_duplo_line.append(line)\n",
    "    \n",
    "lego_duplo_df = pd.DataFrame({\"line\": list_duplo_line, \"title\": list_duplo_titles, \"image_url\": \n",
    "                              duplo_jpegs_links, \"scraped_at\": duplo_time})"
   ]
  },
  {
   "cell_type": "code",
   "execution_count": 27,
   "metadata": {},
   "outputs": [],
   "source": [
    "# Save images to the drive\n",
    "for i in range(len(lego_duplo_df)):\n",
    "    if lego_duplo_df[\"image_url\"][i] == \"NaN\":\n",
    "        pass\n",
    "    else:\n",
    "        url = lego_duplo_df[\"image_url\"][i]\n",
    "        file_name = f\"{datetime.now().strftime('%Y%m%d')}_legoset_{i + len(lego_sw_df)}\"\n",
    "        dl_jpg(url, \"images/\", file_name)"
   ]
  },
  {
   "cell_type": "markdown",
   "metadata": {},
   "source": [
    "#### Technic"
   ]
  },
  {
   "cell_type": "code",
   "execution_count": 28,
   "metadata": {},
   "outputs": [],
   "source": [
    "# Scrape pages\n",
    "technic_pages = list()\n",
    "\n",
    "for i in range(len(tech_pages)):\n",
    "    page_html = requests.get(tech_pages[i], timeout = 3)\n",
    "    page_content = BeautifulSoup(page_html.content, \"html.parser\")\n",
    "    technic_pages.append(page_content)\n",
    "    sleep(3)"
   ]
  },
  {
   "cell_type": "code",
   "execution_count": 29,
   "metadata": {},
   "outputs": [],
   "source": [
    "# Extract box with ad url\n",
    "technic_a = list()\n",
    "\n",
    "for i in range(len(technic_pages)):\n",
    "    a = technic_pages[i].findAll(\"a\", \n",
    "        {\"class\": \"MuiGrid-root link--2etfD MuiGrid-item MuiGrid-grid-xs-6 MuiGrid-grid-sm-4 MuiGrid-grid-md-3\"})\n",
    "    technic_a.append(a)"
   ]
  },
  {
   "cell_type": "code",
   "execution_count": 30,
   "metadata": {},
   "outputs": [],
   "source": [
    "# Save the urls\n",
    "technic_href = list()\n",
    "\n",
    "for i in range(len(technic_a)):\n",
    "    for j in range(len(technic_a[0])):\n",
    "        tc_href = technic_a[i][j].get(\"href\")\n",
    "        technic_href.append(f\"https://www.ricardo.ch{tc_href}\")\n",
    "        "
   ]
  },
  {
   "cell_type": "code",
   "execution_count": 31,
   "metadata": {},
   "outputs": [],
   "source": [
    "# Scrape individual ads\n",
    "technic_ads = list()\n",
    "technic_time = list()\n",
    "\n",
    "for i in range(0, 300):\n",
    "    page_html = requests.get(technic_href[i], timeout = 3)\n",
    "    page_content = BeautifulSoup(page_html.content, \"html.parser\")\n",
    "    technic_ads.append(page_content)\n",
    "    technic_time.append(datetime.now().strftime(\"%d/%m/%Y %H:%M:%S\"))\n",
    "    sleep(3)"
   ]
  },
  {
   "cell_type": "code",
   "execution_count": 32,
   "metadata": {},
   "outputs": [],
   "source": [
    "# Save the contents and timestamp\n",
    "for i, j in zip(range(len(technic_ads)), technic_ads):\n",
    "    filename = f\"technic_ads_{i}.html\"\n",
    "    path = \"html/\"\n",
    "    with open(path + filename, \"w\") as file:\n",
    "        file.write(str(j))\n",
    "\n",
    "technic_time = pd.Series(technic_time)\n",
    "technic_time.to_csv(\"timestamp_technic.csv\")"
   ]
  },
  {
   "cell_type": "code",
   "execution_count": 33,
   "metadata": {},
   "outputs": [],
   "source": [
    "# Extract the image box\n",
    "technic_jpegs = list()\n",
    "\n",
    "for i in range(len(technic_ads)):\n",
    "    if technic_ads[i].findAll(\"img\", {\"class\": \"jss156\"}):\n",
    "        image = technic_ads[i].findAll(\"img\", {\"class\": \"jss156\"})\n",
    "        technic_jpegs.append(image)\n",
    "    elif technic_ads[i].findAll(\"img\", {\"class\": \"jss164\"}):\n",
    "        image = technic_ads[i].findAll(\"img\", {\"class\": \"jss164\"})\n",
    "        technic_jpegs.append(image)\n",
    "    else:\n",
    "        technic_jpegs.append(\"\")"
   ]
  },
  {
   "cell_type": "code",
   "execution_count": 35,
   "metadata": {},
   "outputs": [],
   "source": [
    "# Flatten the list of lists\n",
    "flat_technic_jpegs = []\n",
    "\n",
    "for sublist in technic_jpegs:\n",
    "    if not sublist:\n",
    "        flat_technic_jpegs.append(\"NaN\")\n",
    "    else:\n",
    "        for item in sublist:\n",
    "            flat_technic_jpegs.append(item)"
   ]
  },
  {
   "cell_type": "code",
   "execution_count": 36,
   "metadata": {},
   "outputs": [],
   "source": [
    "# Save URLs and ad titles\n",
    "technic_jpegs_links = list()\n",
    "list_technic_titles = list()\n",
    "list_technic_line = list()\n",
    "\n",
    "for i in range(len(flat_technic_jpegs)):\n",
    "    if flat_technic_jpegs[i] == \"NaN\":\n",
    "        technic_jpegs_links.append(\"NaN\")\n",
    "    else:\n",
    "        source = flat_technic_jpegs[i].get(\"src\")\n",
    "        technic_jpegs_links.append(source)\n",
    "    \n",
    "    if flat_technic_jpegs[i] == \"NaN\":\n",
    "        list_technic_titles.append(\"NaN\")\n",
    "    else:\n",
    "        title = flat_technic_jpegs[i].get(\"alt\")\n",
    "        list_technic_titles.append(title)\n",
    "    \n",
    "    line = \"technic\"\n",
    "    list_technic_line.append(line)\n",
    "    \n",
    "lego_tech_df = pd.DataFrame({\"line\": list_technic_line, \"title\": list_technic_titles, \"image_url\": \n",
    "                             technic_jpegs_links, \"scraped_at\": technic_time})"
   ]
  },
  {
   "cell_type": "code",
   "execution_count": 37,
   "metadata": {},
   "outputs": [],
   "source": [
    "# Save images to the drive\n",
    "for i in range(len(lego_tech_df)):\n",
    "    if lego_tech_df[\"image_url\"][i] == \"NaN\":\n",
    "        pass\n",
    "    else:\n",
    "        url = lego_tech_df[\"image_url\"][i]\n",
    "        file_name = f\"{datetime.now().strftime('%Y%m%d')}_legoset_{i + len(lego_sw_df) + len(lego_duplo_df)}\"\n",
    "        dl_jpg(url, \"images/\", file_name)"
   ]
  },
  {
   "cell_type": "code",
   "execution_count": 38,
   "metadata": {},
   "outputs": [
    {
     "data": {
      "text/plain": [
       "(300, 300, 300)"
      ]
     },
     "execution_count": 38,
     "metadata": {},
     "output_type": "execute_result"
    }
   ],
   "source": [
    "len(lego_sw_df), len(lego_duplo_df), len(lego_tech_df)"
   ]
  },
  {
   "cell_type": "markdown",
   "metadata": {},
   "source": [
    "## Compile data frame"
   ]
  },
  {
   "cell_type": "code",
   "execution_count": 42,
   "metadata": {},
   "outputs": [
    {
     "data": {
      "text/html": [
       "<div>\n",
       "<style scoped>\n",
       "    .dataframe tbody tr th:only-of-type {\n",
       "        vertical-align: middle;\n",
       "    }\n",
       "\n",
       "    .dataframe tbody tr th {\n",
       "        vertical-align: top;\n",
       "    }\n",
       "\n",
       "    .dataframe thead th {\n",
       "        text-align: right;\n",
       "    }\n",
       "</style>\n",
       "<table border=\"1\" class=\"dataframe\">\n",
       "  <thead>\n",
       "    <tr style=\"text-align: right;\">\n",
       "      <th></th>\n",
       "      <th>line</th>\n",
       "      <th>title</th>\n",
       "      <th>image_url</th>\n",
       "      <th>scraped_at</th>\n",
       "    </tr>\n",
       "  </thead>\n",
       "  <tbody>\n",
       "    <tr>\n",
       "      <th>895</th>\n",
       "      <td>technic</td>\n",
       "      <td>*80*Lochbalken*dunkelgrau*A25S</td>\n",
       "      <td>https://img.ricardostatic.ch/t_1800x1350/pl/11...</td>\n",
       "      <td>2020-12-28 10:42:44</td>\n",
       "    </tr>\n",
       "    <tr>\n",
       "      <th>896</th>\n",
       "      <td>technic</td>\n",
       "      <td>*54*Lochbalken*weiss*A81</td>\n",
       "      <td>https://img.ricardostatic.ch/t_1800x1350/pl/11...</td>\n",
       "      <td>2020-12-28 10:42:48</td>\n",
       "    </tr>\n",
       "    <tr>\n",
       "      <th>897</th>\n",
       "      <td>technic</td>\n",
       "      <td>*28*Winkel*Lochbalken*rot*C11</td>\n",
       "      <td>https://img.ricardostatic.ch/t_1800x1350/pl/11...</td>\n",
       "      <td>2020-12-28 10:42:52</td>\n",
       "    </tr>\n",
       "    <tr>\n",
       "      <th>898</th>\n",
       "      <td>technic</td>\n",
       "      <td>*28*Winkel*Lochbalken*rot*C11</td>\n",
       "      <td>https://img.ricardostatic.ch/t_1800x1350/pl/11...</td>\n",
       "      <td>2020-12-28 10:42:55</td>\n",
       "    </tr>\n",
       "    <tr>\n",
       "      <th>899</th>\n",
       "      <td>technic</td>\n",
       "      <td>*50*Winkel*Lochbalken*A25W</td>\n",
       "      <td>https://img.ricardostatic.ch/t_1000x750/pl/115...</td>\n",
       "      <td>2020-12-28 10:42:59</td>\n",
       "    </tr>\n",
       "  </tbody>\n",
       "</table>\n",
       "</div>"
      ],
      "text/plain": [
       "        line                           title  \\\n",
       "895  technic  *80*Lochbalken*dunkelgrau*A25S   \n",
       "896  technic        *54*Lochbalken*weiss*A81   \n",
       "897  technic   *28*Winkel*Lochbalken*rot*C11   \n",
       "898  technic   *28*Winkel*Lochbalken*rot*C11   \n",
       "899  technic      *50*Winkel*Lochbalken*A25W   \n",
       "\n",
       "                                             image_url          scraped_at  \n",
       "895  https://img.ricardostatic.ch/t_1800x1350/pl/11... 2020-12-28 10:42:44  \n",
       "896  https://img.ricardostatic.ch/t_1800x1350/pl/11... 2020-12-28 10:42:48  \n",
       "897  https://img.ricardostatic.ch/t_1800x1350/pl/11... 2020-12-28 10:42:52  \n",
       "898  https://img.ricardostatic.ch/t_1800x1350/pl/11... 2020-12-28 10:42:55  \n",
       "899  https://img.ricardostatic.ch/t_1000x750/pl/115... 2020-12-28 10:42:59  "
      ]
     },
     "execution_count": 42,
     "metadata": {},
     "output_type": "execute_result"
    }
   ],
   "source": [
    "# Combine the three lines\n",
    "lego_df = pd.concat([lego_sw_df, lego_duplo_df, lego_tech_df], ignore_index=True)\n",
    "lego_df[\"scraped_at\"] = pd.to_datetime(lego_df[\"scraped_at\"])\n",
    "lego_df.tail()"
   ]
  },
  {
   "cell_type": "code",
   "execution_count": 43,
   "metadata": {},
   "outputs": [
    {
     "data": {
      "text/html": [
       "<div>\n",
       "<style scoped>\n",
       "    .dataframe tbody tr th:only-of-type {\n",
       "        vertical-align: middle;\n",
       "    }\n",
       "\n",
       "    .dataframe tbody tr th {\n",
       "        vertical-align: top;\n",
       "    }\n",
       "\n",
       "    .dataframe thead th {\n",
       "        text-align: right;\n",
       "    }\n",
       "</style>\n",
       "<table border=\"1\" class=\"dataframe\">\n",
       "  <thead>\n",
       "    <tr style=\"text-align: right;\">\n",
       "      <th></th>\n",
       "      <th>line</th>\n",
       "      <th>title</th>\n",
       "      <th>image_url</th>\n",
       "      <th>scraped_at</th>\n",
       "      <th>image_name</th>\n",
       "    </tr>\n",
       "  </thead>\n",
       "  <tbody>\n",
       "    <tr>\n",
       "      <th>0</th>\n",
       "      <td>starwars</td>\n",
       "      <td>Lego Star Wars Sammlung</td>\n",
       "      <td>https://img.ricardostatic.ch/t_1800x1350/pl/11...</td>\n",
       "      <td>2020-12-28 09:38:34</td>\n",
       "      <td>0_legosets.jpg</td>\n",
       "    </tr>\n",
       "    <tr>\n",
       "      <th>1</th>\n",
       "      <td>starwars</td>\n",
       "      <td>Lego Star Wars Republic Gunship</td>\n",
       "      <td>https://img.ricardostatic.ch/t_1800x1350/pl/11...</td>\n",
       "      <td>2020-12-28 09:38:38</td>\n",
       "      <td>1_legosets.jpg</td>\n",
       "    </tr>\n",
       "    <tr>\n",
       "      <th>2</th>\n",
       "      <td>starwars</td>\n",
       "      <td>Kylo Ren‘s TIE Fighter</td>\n",
       "      <td>https://img.ricardostatic.ch/t_1800x1350/pl/11...</td>\n",
       "      <td>2020-12-28 09:38:42</td>\n",
       "      <td>2_legosets.jpg</td>\n",
       "    </tr>\n",
       "    <tr>\n",
       "      <th>3</th>\n",
       "      <td>starwars</td>\n",
       "      <td>lego star wars</td>\n",
       "      <td>https://img.ricardostatic.ch/t_1800x1350/pl/11...</td>\n",
       "      <td>2020-12-28 09:38:45</td>\n",
       "      <td>3_legosets.jpg</td>\n",
       "    </tr>\n",
       "    <tr>\n",
       "      <th>4</th>\n",
       "      <td>starwars</td>\n",
       "      <td>LEGO Star Wars &amp; Harry Potter</td>\n",
       "      <td>https://img.ricardostatic.ch/t_1800x1350/pl/11...</td>\n",
       "      <td>2020-12-28 09:38:49</td>\n",
       "      <td>4_legosets.jpg</td>\n",
       "    </tr>\n",
       "  </tbody>\n",
       "</table>\n",
       "</div>"
      ],
      "text/plain": [
       "       line                            title  \\\n",
       "0  starwars          Lego Star Wars Sammlung   \n",
       "1  starwars  Lego Star Wars Republic Gunship   \n",
       "2  starwars           Kylo Ren‘s TIE Fighter   \n",
       "3  starwars                   lego star wars   \n",
       "4  starwars    LEGO Star Wars & Harry Potter   \n",
       "\n",
       "                                           image_url          scraped_at  \\\n",
       "0  https://img.ricardostatic.ch/t_1800x1350/pl/11... 2020-12-28 09:38:34   \n",
       "1  https://img.ricardostatic.ch/t_1800x1350/pl/11... 2020-12-28 09:38:38   \n",
       "2  https://img.ricardostatic.ch/t_1800x1350/pl/11... 2020-12-28 09:38:42   \n",
       "3  https://img.ricardostatic.ch/t_1800x1350/pl/11... 2020-12-28 09:38:45   \n",
       "4  https://img.ricardostatic.ch/t_1800x1350/pl/11... 2020-12-28 09:38:49   \n",
       "\n",
       "       image_name  \n",
       "0  0_legosets.jpg  \n",
       "1  1_legosets.jpg  \n",
       "2  2_legosets.jpg  \n",
       "3  3_legosets.jpg  \n",
       "4  4_legosets.jpg  "
      ]
     },
     "execution_count": 43,
     "metadata": {},
     "output_type": "execute_result"
    }
   ],
   "source": [
    "# Add one column for the image name\n",
    "image_name = list()\n",
    "\n",
    "for i in range(len(lego_df)):\n",
    "    file_name = f\"{datetime.now().strftime('%Y%m%d')}_legoset_{i}.jpg\"\n",
    "    image_name.append(file_name)\n",
    "\n",
    "lego_df[\"image_name\"] = image_name\n",
    "lego_df.head()"
   ]
  },
  {
   "cell_type": "code",
   "execution_count": 44,
   "metadata": {},
   "outputs": [],
   "source": [
    "# Extract the info box with interesting information\n",
    "starwars_info = list()\n",
    "duplo_info = list()\n",
    "technic_info = list()\n",
    "\n",
    "for i in range(len(starwars_ads)):\n",
    "    info = starwars_ads[i].findAll(\"div\", {\"class\": \"mainInfo--hdpPQ\"})\n",
    "    starwars_info.append(info)\n",
    "    \n",
    "    info = duplo_ads[i].findAll(\"div\", {\"class\": \"mainInfo--hdpPQ\"})\n",
    "    duplo_info.append(info)\n",
    "    \n",
    "    info = technic_ads[i].findAll(\"div\", {\"class\": \"mainInfo--hdpPQ\"})\n",
    "    technic_info.append(info)\n",
    "    "
   ]
  },
  {
   "cell_type": "code",
   "execution_count": 45,
   "metadata": {},
   "outputs": [],
   "source": [
    "flat_starwars_info = []   ### Replace empty lists with string 'NaN'.\n",
    "for sublist in starwars_info:\n",
    "    if not sublist:\n",
    "        flat_starwars_info.append(\"NaN\")\n",
    "    else:\n",
    "        for item in sublist:\n",
    "            flat_starwars_info.append(item)\n",
    "            \n",
    "flat_duplo_info = []\n",
    "for sublist in duplo_info:\n",
    "    if not sublist:\n",
    "        flat_duplo_info.append(\"NaN\")\n",
    "    else:\n",
    "        for item in sublist:\n",
    "            flat_duplo_info.append(item)\n",
    "            \n",
    "flat_technic_info = []\n",
    "for sublist in technic_info:\n",
    "    if not sublist:\n",
    "        flat_technic_info.append(\"NaN\")\n",
    "    else:\n",
    "        for item in sublist:\n",
    "            flat_technic_info.append(item)"
   ]
  },
  {
   "cell_type": "code",
   "execution_count": 46,
   "metadata": {},
   "outputs": [
    {
     "name": "stdout",
     "output_type": "stream",
     "text": [
      "Star Wars: 0.0% missing\n",
      "Duplo: 0.0% missing\n",
      "Technic: 0.0% missing\n"
     ]
    }
   ],
   "source": [
    "sw_missing = 0\n",
    "for i in flat_starwars_info:\n",
    "    if i == 'NaN':\n",
    "        sw_missing = sw_missing + 1\n",
    "\n",
    "dup_missing = 0\n",
    "for i in flat_duplo_info:\n",
    "    if i == 'NaN':\n",
    "        dup_missing = dup_missing + 1\n",
    "\n",
    "tech_missing = 0\n",
    "for i in flat_technic_info:\n",
    "    if i == 'NaN':\n",
    "        tech_missing = tech_missing + 1\n",
    "\n",
    "print(f\"Star Wars: {sw_missing/len(flat_starwars_info)*100}% missing\")\n",
    "print(f\"Duplo: {dup_missing/len(flat_duplo_info)*100}% missing\")\n",
    "print(f\"Technic: {tech_missing/len(flat_technic_info)*100}% missing\")"
   ]
  },
  {
   "cell_type": "markdown",
   "metadata": {},
   "source": [
    "### Next bid and purchase price"
   ]
  },
  {
   "cell_type": "code",
   "execution_count": 47,
   "metadata": {},
   "outputs": [
    {
     "data": {
      "text/plain": [
       "['21.00', 'NaN', '14.00', '35.90', '8.90']"
      ]
     },
     "execution_count": 47,
     "metadata": {},
     "output_type": "execute_result"
    }
   ],
   "source": [
    "next_bid_auction = list()\n",
    "\n",
    "for i in range(len(flat_starwars_info)):\n",
    "    if flat_starwars_info[i].find(\"input\", {\"class\": \"jss176 jss175\"}):\n",
    "        price = flat_starwars_info[i].find(\"input\", {\"class\": \"jss176 jss175\"}).get(\"value\")\n",
    "        next_bid_auction.append(price)\n",
    "    \n",
    "    elif flat_starwars_info[i].find(\"input\", {\"class\": \"jss173 jss172\"}):\n",
    "        price = flat_starwars_info[i].find(\"input\", {\"class\": \"jss173 jss172\"}).get(\"value\")\n",
    "        next_bid_auction.append(price)\n",
    "    \n",
    "    else:\n",
    "        next_bid_auction.append(\"NaN\")\n",
    "\n",
    "for i in range(len(flat_duplo_info)):\n",
    "    if flat_duplo_info[i].find(\"input\", {\"class\": \"jss176 jss175\"}):\n",
    "        price = flat_duplo_info[i].find(\"input\", {\"class\": \"jss176 jss175\"}).get(\"value\")\n",
    "        next_bid_auction.append(price)\n",
    "        \n",
    "    elif flat_duplo_info[i].find(\"input\", {\"class\": \"jss173 jss172\"}):\n",
    "        price = flat_duplo_info[i].find(\"input\", {\"class\": \"jss173 jss172\"}).get(\"value\")\n",
    "        next_bid_auction.append(price)\n",
    "        \n",
    "    else:\n",
    "        next_bid_auction.append(\"NaN\")\n",
    "\n",
    "for i in range(len(flat_technic_info)):\n",
    "    if flat_technic_info[i].find(\"input\", {\"class\": \"jss176 jss175\"}):\n",
    "        price = flat_technic_info[i].find(\"input\", {\"class\": \"jss176 jss175\"}).get(\"value\")\n",
    "        next_bid_auction.append(price)\n",
    "        \n",
    "    elif flat_technic_info[i].find(\"input\", {\"class\": \"jss173 jss172\"}):\n",
    "        price = flat_technic_info[i].find(\"input\", {\"class\": \"jss173 jss172\"}).get(\"value\")\n",
    "        next_bid_auction.append(price)\n",
    "    \n",
    "    else:\n",
    "        next_bid_auction.append(\"NaN\")\n",
    "        \n",
    "next_bid_auction[25:30]"
   ]
  },
  {
   "cell_type": "code",
   "execution_count": 48,
   "metadata": {},
   "outputs": [
    {
     "data": {
      "text/plain": [
       "['NaN', '35.00', '38.00', '44.90', '11.90']"
      ]
     },
     "execution_count": 48,
     "metadata": {},
     "output_type": "execute_result"
    }
   ],
   "source": [
    "price_buy_now = list()\n",
    "\n",
    "for i in range(len(flat_starwars_info)):\n",
    "    if flat_starwars_info[i].find(\"div\", {\"class\": \"price--rC2BI\"}):\n",
    "        price = flat_starwars_info[i].find(\"div\", {\"class\": \"price--rC2BI\"}).get_text()\n",
    "        price_buy_now.append(price)\n",
    "    else:\n",
    "        price_buy_now.append(\"NaN\")\n",
    "\n",
    "for i in range(len(flat_duplo_info)):\n",
    "    if flat_duplo_info[i].find(\"div\", {\"class\": \"price--rC2BI\"}):\n",
    "        price = flat_duplo_info[i].find(\"div\", {\"class\": \"price--rC2BI\"}).get_text()\n",
    "        price_buy_now.append(price)\n",
    "    else:\n",
    "        price_buy_now.append(\"NaN\")\n",
    "        \n",
    "for i in range(len(flat_technic_info)):\n",
    "    if flat_technic_info[i].find(\"div\", {\"class\": \"price--rC2BI\"}):\n",
    "        price = flat_technic_info[i].find(\"div\", {\"class\": \"price--rC2BI\"}).get_text()\n",
    "        price_buy_now.append(price)\n",
    "    else:\n",
    "        price_buy_now.append(\"NaN\")\n",
    "\n",
    "price_buy_now[25:30]"
   ]
  },
  {
   "cell_type": "code",
   "execution_count": 49,
   "metadata": {},
   "outputs": [
    {
     "data": {
      "text/plain": [
       "line                                                         starwars\n",
       "title                                            Lego Star Wars Figur\n",
       "image_url           https://img.ricardostatic.ch/t_1000x750/pl/115...\n",
       "scraped_at                                        2020-12-28 09:41:08\n",
       "image_name                                            40_legosets.jpg\n",
       "next_bid_auction                                                    5\n",
       "price_buy_now                                                     NaN\n",
       "Name: 40, dtype: object"
      ]
     },
     "execution_count": 49,
     "metadata": {},
     "output_type": "execute_result"
    }
   ],
   "source": [
    "lego_df[\"next_bid_auction\"] = next_bid_auction\n",
    "lego_df[\"next_bid_auction\"] = lego_df[\"next_bid_auction\"].astype(float)\n",
    "\n",
    "lego_df[\"price_buy_now\"] = price_buy_now\n",
    "lego_df[\"price_buy_now\"] = lego_df[\"price_buy_now\"].astype(float)\n",
    "\n",
    "lego_df.iloc[40,]"
   ]
  },
  {
   "cell_type": "markdown",
   "metadata": {},
   "source": [
    "### End date and time remaining"
   ]
  },
  {
   "cell_type": "code",
   "execution_count": 50,
   "metadata": {},
   "outputs": [],
   "source": [
    "end_date = list()\n",
    "\n",
    "for i in range(len(flat_starwars_info)):\n",
    "    if flat_starwars_info[i].findAll(\"span\", {\"class\": \"jss171\"}):\n",
    "        date = flat_starwars_info[i].findAll(\"span\", {\"class\": \"jss171\"})\n",
    "        date_stripped = date[0].get_text().strip(\"schedule\").replace(\"Dez\", \"Dec\")\n",
    "        \n",
    "        if len(date_stripped) > 25:\n",
    "            date_stripped = date_stripped[date_stripped.find('|'):].strip(\"| \")\n",
    "        \n",
    "        date_stripped = datetime.strptime(date_stripped, \"%d. %b. %Y, %H:%M\")\n",
    "        end_date.append(date_stripped)\n",
    "    \n",
    "    elif flat_starwars_info[i].findAll(\"span\", {\"class\": \"jss168\"}):\n",
    "        date = flat_starwars_info[i].findAll(\"span\", {\"class\": \"jss168\"})\n",
    "        date_stripped = date[0].get_text().strip(\"schedule\").replace(\"Dez\", \"Dec\")\n",
    "        \n",
    "        if len(date_stripped) > 25:\n",
    "            date_stripped = date_stripped[date_stripped.find('|'):].strip(\"| \")\n",
    "        \n",
    "        date_stripped = datetime.strptime(date_stripped, \"%d. %b. %Y, %H:%M\")\n",
    "        end_date.append(date_stripped)\n",
    "    \n",
    "    else:\n",
    "        end_date.append(\"NaN\")\n",
    "        \n",
    "for i in range(len(flat_duplo_info)):\n",
    "    if flat_duplo_info[i].findAll(\"span\", {\"class\": \"jss171\"}):\n",
    "        date = flat_duplo_info[i].findAll(\"span\", {\"class\": \"jss171\"})\n",
    "        date_stripped = date[0].get_text().strip(\"schedule\").replace(\"Dez\", \"Dec\")\n",
    "        \n",
    "        if len(date_stripped) > 25:\n",
    "            date_stripped = date_stripped[date_stripped.find('|'):].strip(\"| \")\n",
    "          \n",
    "        date_stripped = datetime.strptime(date_stripped, \"%d. %b. %Y, %H:%M\")\n",
    "        end_date.append(date_stripped)\n",
    "        \n",
    "    elif flat_duplo_info[i].findAll(\"span\", {\"class\": \"jss168\"}):\n",
    "        date = flat_duplo_info[i].findAll(\"span\", {\"class\": \"jss168\"})\n",
    "        date_stripped = date[0].get_text().strip(\"schedule\").replace(\"Dez\", \"Dec\")\n",
    "        \n",
    "        if len(date_stripped) > 25:\n",
    "            date_stripped = date_stripped[date_stripped.find('|'):].strip(\"| \")\n",
    "        \n",
    "        date_stripped = datetime.strptime(date_stripped, \"%d. %b. %Y, %H:%M\")\n",
    "        end_date.append(date_stripped)        \n",
    "        \n",
    "    else:\n",
    "        end_date.append(\"NaN\")\n",
    "        \n",
    "for i in range(len(flat_technic_info)):\n",
    "    if flat_technic_info[i].findAll(\"span\", {\"class\": \"jss171\"}):\n",
    "        date = flat_technic_info[i].findAll(\"span\", {\"class\": \"jss171\"})\n",
    "        date_stripped = date[0].get_text().strip(\"schedule\").replace(\"Dez\", \"Dec\")\n",
    "\n",
    "        if len(date_stripped) > 25:\n",
    "            date_stripped = date_stripped[date_stripped.find('|'):].strip(\"| \")\n",
    "  \n",
    "        date_stripped = datetime.strptime(date_stripped, \"%d. %b. %Y, %H:%M\")\n",
    "        end_date.append(date_stripped)\n",
    "        \n",
    "    elif flat_technic_info[i].findAll(\"span\", {\"class\": \"jss168\"}):\n",
    "        date = flat_technic_info[i].findAll(\"span\", {\"class\": \"jss168\"})\n",
    "        date_stripped = date[0].get_text().strip(\"schedule\").replace(\"Dez\", \"Dec\")\n",
    "        \n",
    "        if len(date_stripped) > 25:\n",
    "            date_stripped = date_stripped[date_stripped.find('|'):].strip(\"| \")\n",
    "        \n",
    "        date_stripped = datetime.strptime(date_stripped, \"%d. %b. %Y, %H:%M\")\n",
    "        end_date.append(date_stripped)        \n",
    "\n",
    "    else:\n",
    "        end_date.append(\"NaN\")"
   ]
  },
  {
   "cell_type": "code",
   "execution_count": 51,
   "metadata": {},
   "outputs": [
    {
     "data": {
      "text/html": [
       "<div>\n",
       "<style scoped>\n",
       "    .dataframe tbody tr th:only-of-type {\n",
       "        vertical-align: middle;\n",
       "    }\n",
       "\n",
       "    .dataframe tbody tr th {\n",
       "        vertical-align: top;\n",
       "    }\n",
       "\n",
       "    .dataframe thead th {\n",
       "        text-align: right;\n",
       "    }\n",
       "</style>\n",
       "<table border=\"1\" class=\"dataframe\">\n",
       "  <thead>\n",
       "    <tr style=\"text-align: right;\">\n",
       "      <th></th>\n",
       "      <th>line</th>\n",
       "      <th>title</th>\n",
       "      <th>image_url</th>\n",
       "      <th>scraped_at</th>\n",
       "      <th>image_name</th>\n",
       "      <th>next_bid_auction</th>\n",
       "      <th>price_buy_now</th>\n",
       "      <th>ends_on</th>\n",
       "      <th>time_remaining</th>\n",
       "      <th>seconds_remaining</th>\n",
       "    </tr>\n",
       "  </thead>\n",
       "  <tbody>\n",
       "    <tr>\n",
       "      <th>0</th>\n",
       "      <td>starwars</td>\n",
       "      <td>Lego Star Wars Sammlung</td>\n",
       "      <td>https://img.ricardostatic.ch/t_1800x1350/pl/11...</td>\n",
       "      <td>2020-12-28 09:38:34</td>\n",
       "      <td>0_legosets.jpg</td>\n",
       "      <td>NaN</td>\n",
       "      <td>330.0</td>\n",
       "      <td>2020-12-29 10:25:00</td>\n",
       "      <td>1 days 00:46:26</td>\n",
       "      <td>2786</td>\n",
       "    </tr>\n",
       "    <tr>\n",
       "      <th>1</th>\n",
       "      <td>starwars</td>\n",
       "      <td>Lego Star Wars Republic Gunship</td>\n",
       "      <td>https://img.ricardostatic.ch/t_1800x1350/pl/11...</td>\n",
       "      <td>2020-12-28 09:38:38</td>\n",
       "      <td>1_legosets.jpg</td>\n",
       "      <td>100.0</td>\n",
       "      <td>NaN</td>\n",
       "      <td>2020-12-30 20:19:00</td>\n",
       "      <td>2 days 10:40:22</td>\n",
       "      <td>38422</td>\n",
       "    </tr>\n",
       "    <tr>\n",
       "      <th>2</th>\n",
       "      <td>starwars</td>\n",
       "      <td>Kylo Ren‘s TIE Fighter</td>\n",
       "      <td>https://img.ricardostatic.ch/t_1800x1350/pl/11...</td>\n",
       "      <td>2020-12-28 09:38:42</td>\n",
       "      <td>2_legosets.jpg</td>\n",
       "      <td>48.0</td>\n",
       "      <td>NaN</td>\n",
       "      <td>2020-12-29 19:56:00</td>\n",
       "      <td>1 days 10:17:18</td>\n",
       "      <td>37038</td>\n",
       "    </tr>\n",
       "    <tr>\n",
       "      <th>3</th>\n",
       "      <td>starwars</td>\n",
       "      <td>lego star wars</td>\n",
       "      <td>https://img.ricardostatic.ch/t_1800x1350/pl/11...</td>\n",
       "      <td>2020-12-28 09:38:45</td>\n",
       "      <td>3_legosets.jpg</td>\n",
       "      <td>12.0</td>\n",
       "      <td>NaN</td>\n",
       "      <td>2020-12-30 12:04:00</td>\n",
       "      <td>2 days 02:25:15</td>\n",
       "      <td>8715</td>\n",
       "    </tr>\n",
       "    <tr>\n",
       "      <th>4</th>\n",
       "      <td>starwars</td>\n",
       "      <td>LEGO Star Wars &amp; Harry Potter</td>\n",
       "      <td>https://img.ricardostatic.ch/t_1800x1350/pl/11...</td>\n",
       "      <td>2020-12-28 09:38:49</td>\n",
       "      <td>4_legosets.jpg</td>\n",
       "      <td>52.0</td>\n",
       "      <td>NaN</td>\n",
       "      <td>2021-01-03 18:06:00</td>\n",
       "      <td>6 days 08:27:11</td>\n",
       "      <td>30431</td>\n",
       "    </tr>\n",
       "  </tbody>\n",
       "</table>\n",
       "</div>"
      ],
      "text/plain": [
       "       line                            title  \\\n",
       "0  starwars          Lego Star Wars Sammlung   \n",
       "1  starwars  Lego Star Wars Republic Gunship   \n",
       "2  starwars           Kylo Ren‘s TIE Fighter   \n",
       "3  starwars                   lego star wars   \n",
       "4  starwars    LEGO Star Wars & Harry Potter   \n",
       "\n",
       "                                           image_url          scraped_at  \\\n",
       "0  https://img.ricardostatic.ch/t_1800x1350/pl/11... 2020-12-28 09:38:34   \n",
       "1  https://img.ricardostatic.ch/t_1800x1350/pl/11... 2020-12-28 09:38:38   \n",
       "2  https://img.ricardostatic.ch/t_1800x1350/pl/11... 2020-12-28 09:38:42   \n",
       "3  https://img.ricardostatic.ch/t_1800x1350/pl/11... 2020-12-28 09:38:45   \n",
       "4  https://img.ricardostatic.ch/t_1800x1350/pl/11... 2020-12-28 09:38:49   \n",
       "\n",
       "       image_name  next_bid_auction  price_buy_now             ends_on  \\\n",
       "0  0_legosets.jpg               NaN          330.0 2020-12-29 10:25:00   \n",
       "1  1_legosets.jpg             100.0            NaN 2020-12-30 20:19:00   \n",
       "2  2_legosets.jpg              48.0            NaN 2020-12-29 19:56:00   \n",
       "3  3_legosets.jpg              12.0            NaN 2020-12-30 12:04:00   \n",
       "4  4_legosets.jpg              52.0            NaN 2021-01-03 18:06:00   \n",
       "\n",
       "   time_remaining  seconds_remaining  \n",
       "0 1 days 00:46:26               2786  \n",
       "1 2 days 10:40:22              38422  \n",
       "2 1 days 10:17:18              37038  \n",
       "3 2 days 02:25:15               8715  \n",
       "4 6 days 08:27:11              30431  "
      ]
     },
     "execution_count": 51,
     "metadata": {},
     "output_type": "execute_result"
    }
   ],
   "source": [
    "lego_df[\"ends_on\"] = end_date\n",
    "lego_df[\"ends_on\"] = pd.to_datetime(lego_df[\"ends_on\"])\n",
    "lego_df[\"time_remaining\"] = lego_df[\"ends_on\"] - lego_df[\"scraped_at\"]\n",
    "lego_df[\"seconds_remaining\"] = lego_df[\"time_remaining\"].dt.seconds\n",
    "lego_df.head()"
   ]
  },
  {
   "cell_type": "markdown",
   "metadata": {},
   "source": [
    "### Sale type"
   ]
  },
  {
   "cell_type": "code",
   "execution_count": 52,
   "metadata": {},
   "outputs": [
    {
     "data": {
      "text/plain": [
       "900"
      ]
     },
     "execution_count": 52,
     "metadata": {},
     "output_type": "execute_result"
    }
   ],
   "source": [
    "sale_type = list()\n",
    "\n",
    "for i in range(len(lego_df)):\n",
    "    if (lego_df[\"next_bid_auction\"].isna()[i] == False) & (lego_df[\"price_buy_now\"].isna()[i] == False):\n",
    "        sale_type.append(\"both\")\n",
    "    elif lego_df[\"next_bid_auction\"].isna()[i] == False:\n",
    "        sale_type.append(\"auction\")    \n",
    "    elif lego_df[\"price_buy_now\"].isna()[i] == False:\n",
    "        sale_type.append(\"buy_now\")\n",
    "    else:\n",
    "        sale_type.append(\"NaN\")\n",
    "        \n",
    "len(sale_type)"
   ]
  },
  {
   "cell_type": "code",
   "execution_count": 53,
   "metadata": {
    "scrolled": true
   },
   "outputs": [
    {
     "data": {
      "text/html": [
       "<div>\n",
       "<style scoped>\n",
       "    .dataframe tbody tr th:only-of-type {\n",
       "        vertical-align: middle;\n",
       "    }\n",
       "\n",
       "    .dataframe tbody tr th {\n",
       "        vertical-align: top;\n",
       "    }\n",
       "\n",
       "    .dataframe thead th {\n",
       "        text-align: right;\n",
       "    }\n",
       "</style>\n",
       "<table border=\"1\" class=\"dataframe\">\n",
       "  <thead>\n",
       "    <tr style=\"text-align: right;\">\n",
       "      <th></th>\n",
       "      <th>line</th>\n",
       "      <th>title</th>\n",
       "      <th>image_url</th>\n",
       "      <th>scraped_at</th>\n",
       "      <th>image_name</th>\n",
       "      <th>next_bid_auction</th>\n",
       "      <th>price_buy_now</th>\n",
       "      <th>ends_on</th>\n",
       "      <th>time_remaining</th>\n",
       "      <th>seconds_remaining</th>\n",
       "      <th>sale_type</th>\n",
       "    </tr>\n",
       "  </thead>\n",
       "  <tbody>\n",
       "    <tr>\n",
       "      <th>0</th>\n",
       "      <td>starwars</td>\n",
       "      <td>Lego Star Wars Sammlung</td>\n",
       "      <td>https://img.ricardostatic.ch/t_1800x1350/pl/11...</td>\n",
       "      <td>2020-12-28 09:38:34</td>\n",
       "      <td>0_legosets.jpg</td>\n",
       "      <td>NaN</td>\n",
       "      <td>330.0</td>\n",
       "      <td>2020-12-29 10:25:00</td>\n",
       "      <td>1 days 00:46:26</td>\n",
       "      <td>2786</td>\n",
       "      <td>buy_now</td>\n",
       "    </tr>\n",
       "    <tr>\n",
       "      <th>1</th>\n",
       "      <td>starwars</td>\n",
       "      <td>Lego Star Wars Republic Gunship</td>\n",
       "      <td>https://img.ricardostatic.ch/t_1800x1350/pl/11...</td>\n",
       "      <td>2020-12-28 09:38:38</td>\n",
       "      <td>1_legosets.jpg</td>\n",
       "      <td>100.0</td>\n",
       "      <td>NaN</td>\n",
       "      <td>2020-12-30 20:19:00</td>\n",
       "      <td>2 days 10:40:22</td>\n",
       "      <td>38422</td>\n",
       "      <td>auction</td>\n",
       "    </tr>\n",
       "    <tr>\n",
       "      <th>2</th>\n",
       "      <td>starwars</td>\n",
       "      <td>Kylo Ren‘s TIE Fighter</td>\n",
       "      <td>https://img.ricardostatic.ch/t_1800x1350/pl/11...</td>\n",
       "      <td>2020-12-28 09:38:42</td>\n",
       "      <td>2_legosets.jpg</td>\n",
       "      <td>48.0</td>\n",
       "      <td>NaN</td>\n",
       "      <td>2020-12-29 19:56:00</td>\n",
       "      <td>1 days 10:17:18</td>\n",
       "      <td>37038</td>\n",
       "      <td>auction</td>\n",
       "    </tr>\n",
       "    <tr>\n",
       "      <th>3</th>\n",
       "      <td>starwars</td>\n",
       "      <td>lego star wars</td>\n",
       "      <td>https://img.ricardostatic.ch/t_1800x1350/pl/11...</td>\n",
       "      <td>2020-12-28 09:38:45</td>\n",
       "      <td>3_legosets.jpg</td>\n",
       "      <td>12.0</td>\n",
       "      <td>NaN</td>\n",
       "      <td>2020-12-30 12:04:00</td>\n",
       "      <td>2 days 02:25:15</td>\n",
       "      <td>8715</td>\n",
       "      <td>auction</td>\n",
       "    </tr>\n",
       "    <tr>\n",
       "      <th>4</th>\n",
       "      <td>starwars</td>\n",
       "      <td>LEGO Star Wars &amp; Harry Potter</td>\n",
       "      <td>https://img.ricardostatic.ch/t_1800x1350/pl/11...</td>\n",
       "      <td>2020-12-28 09:38:49</td>\n",
       "      <td>4_legosets.jpg</td>\n",
       "      <td>52.0</td>\n",
       "      <td>NaN</td>\n",
       "      <td>2021-01-03 18:06:00</td>\n",
       "      <td>6 days 08:27:11</td>\n",
       "      <td>30431</td>\n",
       "      <td>auction</td>\n",
       "    </tr>\n",
       "    <tr>\n",
       "      <th>...</th>\n",
       "      <td>...</td>\n",
       "      <td>...</td>\n",
       "      <td>...</td>\n",
       "      <td>...</td>\n",
       "      <td>...</td>\n",
       "      <td>...</td>\n",
       "      <td>...</td>\n",
       "      <td>...</td>\n",
       "      <td>...</td>\n",
       "      <td>...</td>\n",
       "      <td>...</td>\n",
       "    </tr>\n",
       "    <tr>\n",
       "      <th>895</th>\n",
       "      <td>technic</td>\n",
       "      <td>*80*Lochbalken*dunkelgrau*A25S</td>\n",
       "      <td>https://img.ricardostatic.ch/t_1800x1350/pl/11...</td>\n",
       "      <td>2020-12-28 10:42:44</td>\n",
       "      <td>895_legosets.jpg</td>\n",
       "      <td>16.0</td>\n",
       "      <td>NaN</td>\n",
       "      <td>2021-01-02 20:15:00</td>\n",
       "      <td>5 days 09:32:16</td>\n",
       "      <td>34336</td>\n",
       "      <td>auction</td>\n",
       "    </tr>\n",
       "    <tr>\n",
       "      <th>896</th>\n",
       "      <td>technic</td>\n",
       "      <td>*54*Lochbalken*weiss*A81</td>\n",
       "      <td>https://img.ricardostatic.ch/t_1800x1350/pl/11...</td>\n",
       "      <td>2020-12-28 10:42:48</td>\n",
       "      <td>896_legosets.jpg</td>\n",
       "      <td>12.0</td>\n",
       "      <td>NaN</td>\n",
       "      <td>2021-01-02 20:15:00</td>\n",
       "      <td>5 days 09:32:12</td>\n",
       "      <td>34332</td>\n",
       "      <td>auction</td>\n",
       "    </tr>\n",
       "    <tr>\n",
       "      <th>897</th>\n",
       "      <td>technic</td>\n",
       "      <td>*28*Winkel*Lochbalken*rot*C11</td>\n",
       "      <td>https://img.ricardostatic.ch/t_1800x1350/pl/11...</td>\n",
       "      <td>2020-12-28 10:42:52</td>\n",
       "      <td>897_legosets.jpg</td>\n",
       "      <td>4.0</td>\n",
       "      <td>NaN</td>\n",
       "      <td>2021-01-02 20:18:00</td>\n",
       "      <td>5 days 09:35:08</td>\n",
       "      <td>34508</td>\n",
       "      <td>auction</td>\n",
       "    </tr>\n",
       "    <tr>\n",
       "      <th>898</th>\n",
       "      <td>technic</td>\n",
       "      <td>*28*Winkel*Lochbalken*rot*C11</td>\n",
       "      <td>https://img.ricardostatic.ch/t_1800x1350/pl/11...</td>\n",
       "      <td>2020-12-28 10:42:55</td>\n",
       "      <td>898_legosets.jpg</td>\n",
       "      <td>4.0</td>\n",
       "      <td>NaN</td>\n",
       "      <td>2021-01-02 20:18:00</td>\n",
       "      <td>5 days 09:35:05</td>\n",
       "      <td>34505</td>\n",
       "      <td>auction</td>\n",
       "    </tr>\n",
       "    <tr>\n",
       "      <th>899</th>\n",
       "      <td>technic</td>\n",
       "      <td>*50*Winkel*Lochbalken*A25W</td>\n",
       "      <td>https://img.ricardostatic.ch/t_1000x750/pl/115...</td>\n",
       "      <td>2020-12-28 10:42:59</td>\n",
       "      <td>899_legosets.jpg</td>\n",
       "      <td>9.0</td>\n",
       "      <td>NaN</td>\n",
       "      <td>2021-01-02 20:21:00</td>\n",
       "      <td>5 days 09:38:01</td>\n",
       "      <td>34681</td>\n",
       "      <td>auction</td>\n",
       "    </tr>\n",
       "  </tbody>\n",
       "</table>\n",
       "<p>900 rows × 11 columns</p>\n",
       "</div>"
      ],
      "text/plain": [
       "         line                            title  \\\n",
       "0    starwars          Lego Star Wars Sammlung   \n",
       "1    starwars  Lego Star Wars Republic Gunship   \n",
       "2    starwars           Kylo Ren‘s TIE Fighter   \n",
       "3    starwars                   lego star wars   \n",
       "4    starwars    LEGO Star Wars & Harry Potter   \n",
       "..        ...                              ...   \n",
       "895   technic   *80*Lochbalken*dunkelgrau*A25S   \n",
       "896   technic         *54*Lochbalken*weiss*A81   \n",
       "897   technic    *28*Winkel*Lochbalken*rot*C11   \n",
       "898   technic    *28*Winkel*Lochbalken*rot*C11   \n",
       "899   technic       *50*Winkel*Lochbalken*A25W   \n",
       "\n",
       "                                             image_url          scraped_at  \\\n",
       "0    https://img.ricardostatic.ch/t_1800x1350/pl/11... 2020-12-28 09:38:34   \n",
       "1    https://img.ricardostatic.ch/t_1800x1350/pl/11... 2020-12-28 09:38:38   \n",
       "2    https://img.ricardostatic.ch/t_1800x1350/pl/11... 2020-12-28 09:38:42   \n",
       "3    https://img.ricardostatic.ch/t_1800x1350/pl/11... 2020-12-28 09:38:45   \n",
       "4    https://img.ricardostatic.ch/t_1800x1350/pl/11... 2020-12-28 09:38:49   \n",
       "..                                                 ...                 ...   \n",
       "895  https://img.ricardostatic.ch/t_1800x1350/pl/11... 2020-12-28 10:42:44   \n",
       "896  https://img.ricardostatic.ch/t_1800x1350/pl/11... 2020-12-28 10:42:48   \n",
       "897  https://img.ricardostatic.ch/t_1800x1350/pl/11... 2020-12-28 10:42:52   \n",
       "898  https://img.ricardostatic.ch/t_1800x1350/pl/11... 2020-12-28 10:42:55   \n",
       "899  https://img.ricardostatic.ch/t_1000x750/pl/115... 2020-12-28 10:42:59   \n",
       "\n",
       "           image_name  next_bid_auction  price_buy_now             ends_on  \\\n",
       "0      0_legosets.jpg               NaN          330.0 2020-12-29 10:25:00   \n",
       "1      1_legosets.jpg             100.0            NaN 2020-12-30 20:19:00   \n",
       "2      2_legosets.jpg              48.0            NaN 2020-12-29 19:56:00   \n",
       "3      3_legosets.jpg              12.0            NaN 2020-12-30 12:04:00   \n",
       "4      4_legosets.jpg              52.0            NaN 2021-01-03 18:06:00   \n",
       "..                ...               ...            ...                 ...   \n",
       "895  895_legosets.jpg              16.0            NaN 2021-01-02 20:15:00   \n",
       "896  896_legosets.jpg              12.0            NaN 2021-01-02 20:15:00   \n",
       "897  897_legosets.jpg               4.0            NaN 2021-01-02 20:18:00   \n",
       "898  898_legosets.jpg               4.0            NaN 2021-01-02 20:18:00   \n",
       "899  899_legosets.jpg               9.0            NaN 2021-01-02 20:21:00   \n",
       "\n",
       "     time_remaining  seconds_remaining sale_type  \n",
       "0   1 days 00:46:26               2786   buy_now  \n",
       "1   2 days 10:40:22              38422   auction  \n",
       "2   1 days 10:17:18              37038   auction  \n",
       "3   2 days 02:25:15               8715   auction  \n",
       "4   6 days 08:27:11              30431   auction  \n",
       "..              ...                ...       ...  \n",
       "895 5 days 09:32:16              34336   auction  \n",
       "896 5 days 09:32:12              34332   auction  \n",
       "897 5 days 09:35:08              34508   auction  \n",
       "898 5 days 09:35:05              34505   auction  \n",
       "899 5 days 09:38:01              34681   auction  \n",
       "\n",
       "[900 rows x 11 columns]"
      ]
     },
     "execution_count": 53,
     "metadata": {},
     "output_type": "execute_result"
    }
   ],
   "source": [
    "lego_df[\"sale_type\"] = sale_type\n",
    "lego_df"
   ]
  },
  {
   "cell_type": "code",
   "execution_count": 54,
   "metadata": {},
   "outputs": [
    {
     "data": {
      "text/plain": [
       "line                          object\n",
       "title                         object\n",
       "image_url                     object\n",
       "scraped_at            datetime64[ns]\n",
       "image_name                    object\n",
       "next_bid_auction             float64\n",
       "price_buy_now                float64\n",
       "ends_on               datetime64[ns]\n",
       "time_remaining       timedelta64[ns]\n",
       "seconds_remaining              int64\n",
       "sale_type                     object\n",
       "dtype: object"
      ]
     },
     "execution_count": 54,
     "metadata": {},
     "output_type": "execute_result"
    }
   ],
   "source": [
    "lego_df.dtypes"
   ]
  },
  {
   "cell_type": "code",
   "execution_count": 56,
   "metadata": {},
   "outputs": [],
   "source": [
    "lego_df.to_csv(f\"{datetime.now().strftime('%Y%m%d')}_ricardo_ads_df.csv\")"
   ]
  }
 ],
 "metadata": {
  "kernelspec": {
   "display_name": "Python 3",
   "language": "python",
   "name": "python3"
  },
  "language_info": {
   "codemirror_mode": {
    "name": "ipython",
    "version": 3
   },
   "file_extension": ".py",
   "mimetype": "text/x-python",
   "name": "python",
   "nbconvert_exporter": "python",
   "pygments_lexer": "ipython3",
   "version": "3.8.5"
  },
  "toc": {
   "base_numbering": 1,
   "nav_menu": {},
   "number_sections": true,
   "sideBar": true,
   "skip_h1_title": true,
   "title_cell": "Table of Contents",
   "title_sidebar": "Contents",
   "toc_cell": true,
   "toc_position": {
    "height": "calc(100% - 180px)",
    "left": "10px",
    "top": "150px",
    "width": "384px"
   },
   "toc_section_display": true,
   "toc_window_display": true
  }
 },
 "nbformat": 4,
 "nbformat_minor": 4
}
